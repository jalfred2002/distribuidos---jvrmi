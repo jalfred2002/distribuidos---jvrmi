{
  "cells": [
    {
      "attachments": {
        "image.png": {
          "image/png": "[encoded data removed]"
        }
      },
      "cell_type": "markdown",
      "id": "a35eeb9f-df70-4ab1-a243-2d2025888eb0",
      "metadata": {},
      "source": [
        "# Código del Servidor (PRD.py)\n",
        "\n",
        "# Introducción\n",
        "\n",
        "Este programa implementa una solución de control remoto entre un servidor y un cliente utilizando Python. El objetivo principal es permitir al cliente interactuar con el servidor de forma remota. Las funcionalidades clave incluyen:\n",
        "\n",
        "- **Chat**: Permite al cliente y al servidor comunicarse en tiempo real.\n",
        "- **Captura de pantalla**: Permite al cliente solicitar y recibir imágenes de la pantalla del servidor.\n",
        "\n",
        "# Descripcion\n",
        "\n",
        "# Servidor (PRD.py)\n",
        "El archivo PRD.py actúa como el servidor en esta configuración. Su principal responsabilidad es escuchar y aceptar conexiones entrantes de los clientes. Una vez que se establece una conexión, el servidor puede recibir y responder a las solicitudes del cliente. Aquí están las funcionalidades en detalle:\n",
        "\n",
        "## Menú\n",
        "El servidor proporciona un menú interactivo para el usuario. Este menú puede incluir varias opciones, como iniciar un chat, tomar una captura de pantalla, etc. El menú se actualiza dinámicamente en función de las acciones del usuario y del estado del sistema.\n",
        "\n",
        "## Captura de Pantalla\n",
        "Esta funcionalidad permite al servidor tomar capturas de pantalla de su propia máquina. Esto puede ser útil para fines de diagnóstico o para compartir la vista actual del servidor con el cliente.\n",
        "\n",
        "## Chat\n",
        "El servidor puede participar en una comunicación bidireccional con el cliente. Esto significa que tanto el servidor como el cliente pueden enviar y recibir mensajes entre sí.\n",
        "\n",
        "# Cliente (CRD.py)\n",
        "El archivo CRD.py actúa como el cliente. El cliente es la interfaz principal a través de la cual el usuario interactúa con el servidor. Aquí están las funcionalidades en detalle:\n",
        "\n",
        "## Chat\n",
        "Al igual que el servidor, el cliente también puede participar en el chat. El cliente puede enviar mensajes al servidor.\n",
        "\n",
        "## Captura de Pantalla\n",
        "El cliente puede solicitar al servidor que tome una captura de pantalla del lado del servidor. \n",
        "\n",
        "## Desconexión\n",
        "Esta funcionalidad permite al cliente desconectarse del servidor de manera segura.\n",
        "\n",
        "## Dependencias\n",
        "Para que este código funcione correctamente, necesitarás tener la biblioteca `pyautogui` instalada en el entorno de Python del servidor.\n",
        "import socket\n",
        "import pyautogui\n",
        "import base64\n",
        "import os\n",
        "\n",
        "#Codigo de PRD.py\n",
        "\n",
        "![image.png](attachment:image.png)"
      ]
    },
    {
      "cell_type": "code",
      "execution_count": null,
      "id": "fe55883a-6887-43dd-9498-5333a51799e2",
      "metadata": {
        "trusted": true
      },
      "outputs": [],
      "source": [
        "from matplotlib import pyplot as plt\n",
        "import numpy as np\n",
        "\n",
        "# Generate 100 random data points along 3 dimensions\n",
        "x, y, scale = np.random.randn(3, 100)\n",
        "fig, ax = plt.subplots()\n",
        "\n",
        "# Map each onto a scatterplot we'll create with Matplotlib\n",
        "ax.scatter(x=x, y=y, c=scale, s=np.abs(scale)*500)\n",
        "ax.set(title=\"Some random data, created with JupyterLab!\")\n",
        "plt.show()"
      ]
    },
    {
      "cell_type": "markdown",
      "id": "b9670d85-ef29-4dfd-b4b5-e76d279c1f1a",
      "metadata": {},
      "source": [
        "# Ejecución\n",
        "Para ejecutar este programa, primero debes ejecutar el servidor (PRD.py) y luego el cliente (CRD.py).\n",
        "\n",
        "## Ejemplo de Uso\n",
        "Una vez que el servidor y el cliente están en ejecución, puedes interactuar con el servidor de las siguiente manera:\n",
        "-Abre el chat.\n",
        "-Escribe “sc” para tomar una captura de pantalla.\n",
        "-Escribe “esc” para salir del chat.\n",
        "-Escribe 3 para desconectar el servidor"
      ]
    },
    {
      "cell_type": "markdown",
      "id": "7fff9049",
      "metadata": {},
      "source": [
        "# PRD.py\n",
        "Este código implementa un servidor en una red que puede interactuar con un cliente a través de un chat y capturar y enviar capturas de pantalla. Aquí está una explicación detallada y seccionada del código:\n",
        "\n",
        "## Importaciones"
      ]
    },
    {
      "cell_type": "code",
      "execution_count": null,
      "id": "95b011c2",
      "metadata": {},
      "outputs": [],
      "source": [
        "import socket\n",
        "import pyautogui\n",
        "import base64\n",
        "import os"
      ]
    },
    {
      "cell_type": "markdown",
      "id": "43b58288",
      "metadata": {},
      "source": [
        "Aquí se importan las bibliotecas necesarias para el funcionamiento del programa. socket se utiliza para la comunicación en red, pyautogui para la captura de pantalla, base64 para la codificación de la imagen de la captura de pantalla y os para las operaciones del sistema operativo.\n",
        "\n",
        "## Funciones"
      ]
    },
    {
      "cell_type": "code",
      "execution_count": null,
      "id": "bbc0e563",
      "metadata": {},
      "outputs": [],
      "source": [
        "def capture_screen():\n",
        "    screenshot = pyautogui.screenshot()\n",
        "    encoded_image = base64.b64encode(screenshot.tobytes())\n",
        "    connection.sendall(encoded_image)\n",
        "    desktop_path = os.path.expanduser(\"~/Desktop\")\n",
        "    screenshot.save(os.path.join(desktop_path, \"screenshot.png\"))"
      ]
    },
    {
      "cell_type": "markdown",
      "id": "c6c91eef",
      "metadata": {},
      "source": [
        "Esta función captura la pantalla del servidor, codifica la imagen en base64 y la envía al cliente. También guarda una copia de la captura de pantalla en el escritorio del servidor."
      ]
    },
    {
      "cell_type": "code",
      "execution_count": null,
      "id": "8c2b41cd",
      "metadata": {},
      "outputs": [],
      "source": [
        "def clear_console():\n",
        "    os.system(\"cls\" if os.name == \"nt\" else \"clear\")"
      ]
    },
    {
      "cell_type": "markdown",
      "id": "b4004b46",
      "metadata": {},
      "source": [
        "\n",
        "Esta función limpia la consola del servidor.\n",
        "\n",
        "## Configuración del servidor"
      ]
    },
    {
      "cell_type": "code",
      "execution_count": null,
      "id": "52e3b052",
      "metadata": {},
      "outputs": [],
      "source": [
        "HOST = \"192.168.1.13\"\n",
        "PORT = 6666"
      ]
    },
    {
      "cell_type": "markdown",
      "id": "e69b2b41",
      "metadata": {},
      "source": [
        "Aquí se definen el host y el puerto en los que el servidor escuchará las conexiones entrantes.\n",
        "\n",
        "## Creación del socket y escucha de conexiones"
      ]
    },
    {
      "cell_type": "code",
      "execution_count": null,
      "id": "93c55a84",
      "metadata": {},
      "outputs": [
        {
          "ename": "",
          "evalue": "",
          "output_type": "error",
          "traceback": [
            "\u001b[1;31mRunning cells with 'c:\\Users\\jorge\\AppData\\Local\\Programs\\Python\\Python312\\python.exe' requires the ipykernel package.\n",
            "\u001b[1;31mRun the following command to install 'ipykernel' into the Python environment. \n",
            "\u001b[1;31mCommand: 'c:/Users/jorge/AppData/Local/Programs/Python/Python312/python.exe -m pip install ipykernel -U --user --force-reinstall'"
          ]
        }
      ],
      "source": [
        "try:\n",
        "    sock = socket.socket(socket.AF_INET, socket.SOCK_STREAM)\n",
        "    sock.bind((HOST, PORT))\n",
        "    sock.listen(1)\n",
        "\n",
        "    print(f\"Servidor escuchando en {HOST}:{PORT}...\")\n",
        "\n",
        "    connection, client_address = sock.accept()\n",
        "    print(f\"Cliente conectado desde {client_address}\")"
      ]
    },
    {
      "cell_type": "markdown",
      "id": "5670bba4",
      "metadata": {},
      "source": [
        "Aquí se crea un socket, se enlaza al host y al puerto especificados, y se comienza a escuchar las conexiones entrantes. Cuando se acepta una conexión, se imprime la dirección del cliente.\n",
        "\n",
        "## Interacción con el cliente"
      ]
    },
    {
      "cell_type": "code",
      "execution_count": null,
      "id": "46a8791e",
      "metadata": {},
      "outputs": [],
      "source": [
        " chat = False\n",
        "\n",
        "    while True:\n",
        "        data = connection.recv(1024).decode(\"utf-8\")\n",
        "\n",
        "        if data.lower() == \"exit\" or data == \"3\":\n",
        "            print(\"Cliente solicitó cerrar la conexión.\")\n",
        "            break\n",
        "        elif data.lower() == \"esc\":\n",
        "            chat = False\n",
        "        elif data == \"1\" or chat:\n",
        "            if chat == False:\n",
        "                clear_console()\n",
        "                print(\"\\n\\nEstás ubicado en el chat.\")\n",
        "                print(\"Para salir del chat, escribe 'esc'.\")\n",
        "\n",
        "            chat = True\n",
        "            print(data)\n",
        "        elif data == \"2\":\n",
        "            capture_screen()"
      ]
    },
    {
      "cell_type": "markdown",
      "id": "195c4927",
      "metadata": {},
      "source": [
        "En este bucle, el servidor recibe datos del cliente y realiza diferentes acciones dependiendo de los datos recibidos. Puede entrar en un modo de chat, capturar la pantalla, o cerrar la conexión.\n",
        "\n",
        "## Manejo de interrupciones y cierre del servidor"
      ]
    },
    {
      "cell_type": "code",
      "execution_count": null,
      "id": "3a516eca",
      "metadata": {},
      "outputs": [],
      "source": [
        "except KeyboardInterrupt:\n",
        "    print(\"\\nServidor detenido por el usuario.\")\n",
        "finally:\n",
        "    sock.close()\n",
        "    print(\"Servidor desconectado\")"
      ]
    },
    {
      "cell_type": "markdown",
      "id": "0e0c1377",
      "metadata": {},
      "source": [
        "Si el usuario interrumpe el programa, se cierra el servidor.\n",
        "\n",
        "# crd.py \n",
        "\n",
        "## Configuración del Cliente"
      ]
    },
    {
      "cell_type": "code",
      "execution_count": null,
      "id": "c1274f83",
      "metadata": {},
      "outputs": [],
      "source": [
        "import socket\n",
        "import os\n",
        "\n",
        "HOST = \"192.168.1.13\"\n",
        "PORT = 6666"
      ]
    },
    {
      "cell_type": "markdown",
      "id": "7afeff85",
      "metadata": {},
      "source": [
        "En esta sección, se definen las variables HOST y PORT, que representan la dirección IP y el puerto del servidor al que el cliente se conectará.\n",
        "\n",
        "## Funciones"
      ]
    },
    {
      "cell_type": "code",
      "execution_count": null,
      "id": "6bc73ec6",
      "metadata": {},
      "outputs": [],
      "source": [
        "def clear_console():\n",
        "    os.system(\"cls\" if os.name == \"nt\" else \"clear\")\n"
      ]
    },
    {
      "cell_type": "markdown",
      "id": "08b10386",
      "metadata": {},
      "source": [
        "La función clear_console() se utiliza para limpiar la consola del cliente. Esto asegura que la interfaz de usuario sea más legible y ordenada."
      ]
    },
    {
      "cell_type": "code",
      "execution_count": null,
      "id": "aa98b5b2",
      "metadata": {},
      "outputs": [],
      "source": [
        "def menu():\n",
        "    clear_console()\n",
        "\n",
        "    print(\"\\n1. Abrir chat\")\n",
        "    print(\"2. Screenshot\")\n",
        "    print(\"3. Desconectarse\")\n",
        "    choice = input(\"Elije una opción: \")\n",
        "    return choice\n"
      ]
    },
    {
      "cell_type": "markdown",
      "id": "ab99ebd0",
      "metadata": {},
      "source": [
        "La función menu() muestra un menú al usuario y recoge su elección. Dependiendo de la opción seleccionada, el cliente realizará diferentes acciones."
      ]
    },
    {
      "cell_type": "markdown",
      "id": "ec586f1f",
      "metadata": {},
      "source": [
        "## Configuración del servidor"
      ]
    },
    {
      "cell_type": "code",
      "execution_count": null,
      "id": "9c423c2a",
      "metadata": {},
      "outputs": [],
      "source": [
        "try:\n",
        "    sock = socket.socket(socket.AF_INET, socket.SOCK_STREAM)\n",
        "    sock.connect((HOST, PORT))\n",
        "\n",
        "    print(\"Conexión establecida.\")\n"
      ]
    },
    {
      "cell_type": "markdown",
      "id": "495a5b65",
      "metadata": {},
      "source": [
        "En este bloque try, se crea un socket y se establece una conexión con el servidor. Si la conexión es exitosa, se imprime un mensaje indicando que la conexión se ha establecido correctamente.\n",
        "\n",
        "## Interacción con el Servidor"
      ]
    },
    {
      "cell_type": "code",
      "execution_count": null,
      "id": "05b2bd6c",
      "metadata": {},
      "outputs": [],
      "source": [
        "try:\n",
        "    sock = socket.socket(socket.AF_INET, socket.SOCK_STREAM)\n",
        "    sock.bind((HOST, PORT))\n",
        "    sock.listen(1)\n",
        "\n",
        "    print(f\"Servidor escuchando en {HOST}:{PORT}...\")\n",
        "\n",
        "    connection, client_address = sock.accept()\n",
        "    print(f\"Cliente conectado desde {client_address}\")\n"
      ]
    },
    {
      "cell_type": "markdown",
      "id": "898558a5",
      "metadata": {},
      "source": [
        "Aquí se crea un socket, se enlaza al host y al puerto especificados, y se comienza a escuchar las conexiones entrantes. Cuando se acepta una conexión, se imprime la dirección del cliente.\n",
        "\n",
        "## Interacción conel servidor "
      ]
    },
    {
      "cell_type": "code",
      "execution_count": null,
      "id": "cb3ecfc9",
      "metadata": {},
      "outputs": [],
      "source": [
        "while True:\n",
        "        choice = menu()\n",
        "        sock.sendall(choice.encode(\"utf-8\"))\n",
        "\n",
        "        if choice.lower() == \"1\":\n",
        "            clear_console()\n",
        "            \n",
        "            print(\"\\n\\nEstás ubicado en el chat.\")\n",
        "            print(\"Para salir del chat, escribe 'esc'.\")\n",
        "            print(\"Para hacer un capture de la pantalla principal, escribe 'esc'.\")\n",
        "            while True:\n",
        "                message = input(\"Escribe tu mensaje: \")\n",
        "                sock.sendall(message.encode(\"utf-8\"))\n",
        "                if message.lower() == \"esc\":\n",
        "                    break\n",
        "        elif choice == \"2\":\n",
        "                message = \"2\"\n",
        "                sock.sendall(message.encode(\"utf-8\"))\n",
        "        elif choice == \"3\":\n",
        "            sock.sendall(\"3\".encode(\"utf-8\"))\n",
        "            print(\"Desconectándose del servidor.\")\n",
        "            break    \n",
        "        elif choice == \"4\":\n",
        "                sock.sendall(\"4\".encode(\"utf-8\"))\n",
        "        else:\n",
        "            print(\"Opción no válida. Inténtalo de nuevo.\")"
      ]
    },
    {
      "cell_type": "markdown",
      "id": "28c69644",
      "metadata": {},
      "source": [
        "En este bucle, el cliente recoge la elección del usuario y envía esta elección al servidor. Dependiendo de la opción seleccionada, se entra en el modo de chat, se solicita una captura de pantalla o se desconecta del servidor.\n",
        "\n",
        "## Manejo de interrupciones y cierre del servidor"
      ]
    },
    {
      "cell_type": "code",
      "execution_count": null,
      "id": "fe9bff91",
      "metadata": {},
      "outputs": [],
      "source": [
        "except KeyboardInterrupt:\n",
        "    print(\"\\nCliente detenido por el usuario.\")\n",
        "finally:\n",
        "    sock.close()\n"
      ]
    },
    {
      "cell_type": "markdown",
      "id": "eeadb33a",
      "metadata": {},
      "source": [
        "Si el usuario interrumpe el programa (por ejemplo, presionando Ctrl+C), se cierra la conexión con el servidor y se imprime un mensaje indicando que el cliente se ha detenido."
      ]
    },
    {
      "cell_type": "markdown",
      "id": "00ef68e6",
      "metadata": {},
      "source": [
        "# Sistema de Chat y Captura de Pantalla con Python\n",
        "\n",
        "Este proyecto consta de dos scripts de Python, `PRD.py` y `crd.py`, que implementan un sistema de chat y captura de pantalla a través de una red.\n",
        "\n",
        "## Descripción\n",
        "\n",
        "El script `PRD.py` actúa como un servidor que escucha las conexiones entrantes de los clientes. Una vez que se establece una conexión, el servidor puede interactuar con el cliente a través de un chat y capturar y enviar capturas de pantalla.\n",
        "\n",
        "El script `crd.py` actúa como un cliente que se conecta al servidor. Una vez que se establece la conexión, el cliente puede interactuar con el servidor a través de un chat y solicitar capturas de pantalla.\n",
        "\n",
        "## Dependencias\n",
        "\n",
        "Para que estos scripts funcionen correctamente, necesitarás tener la biblioteca `pyautogui` instalada en tu entorno de Python.\n",
        "\n",
        "## Uso\n",
        "\n",
        "Para utilizar este sistema, sigue estos pasos:\n",
        "\n",
        "1. Ejecuta el servidor (`PRD.py`).\n",
        "2. Ejecuta el cliente (`crd.py`).\n",
        "\n",
        "Una vez que el servidor y el cliente están en ejecución, puedes interactuar con el servidor de las siguientes maneras:\n",
        "\n",
        "- Abre el chat.\n",
        "- Escribe “sc” para tomar una captura de pantalla.\n",
        "- Escribe “esc” para salir del chat.\n",
        "\n",
        "# Instalación\n",
        "\n",
        "Para que estos scripts funcionen correctamente, necesitarás tener instaladas algunas bibliotecas en tu entorno de Python. Aquí están los pasos para instalarlas:\n",
        "\n",
        "1. **Instala Python**: Si aún no lo has hecho, necesitarás instalar Python en tu sistema. Puedes descargarlo desde el sitio web oficial de Python.\n",
        "\n",
        "2. **Instala las bibliotecas necesarias**: Estos scripts requieren las bibliotecas `socket`, `pyautogui`, `base64` y `os`. `socket`, `base64` y `os` ya están incluidas en la instalación estándar de Python, pero necesitarás instalar `pyautogui`. Para hacerlo, abre una terminal y ejecuta el siguiente comando:\n",
        "\n",
        "```bash\n",
        "pip install pyautogui\n",
        "\n",
        "Esto instalará la biblioteca pyautogui en tu entorno de Python.\n",
        "\n",
        "Con Python y las bibliotecas necesarias instaladas, ahora deberías poder ejecutar los scripts PRD.py y crd.py."
      ]
    },
    {
      "cell_type": "markdown",
      "id": "8bc9d9f4",
      "metadata": {},
      "source": []
    },
    {
      "cell_type": "markdown",
      "id": "6806e5c2",
      "metadata": {},
      "source": [
        "# Implmentacion en Java\n",
        "para que ese programa se adapte a la aplicacion o programa que mando por el uneg virtual se pondri implemtnar de la siguiente manera:"
      ]
    },
    {
      "cell_type": "code",
      "execution_count": null,
      "id": "7194ff8e",
      "metadata": {},
      "outputs": [],
      "source": [
        "import org.python.util.PythonInterpreter;\n",
        "import java.io.*;\n",
        "\n",
        "public class JythonScreenshotExample {\n",
        "    public static void main(String[] args) {\n",
        "        try (PythonInterpreter pyInterp = new PythonInterpreter()) {\n",
        "            pyInterp.exec(\"import pyautogui\");\n",
        "            pyInterp.exec(\"import base64\");\n",
        "            pyInterp.exec(\"import os\");\n",
        "\n",
        "            // Capturar la pantalla en Python\n",
        "            pyInterp.exec(\"screenshot = pyautogui.screenshot()\");\n",
        "            pyInterp.exec(\"encoded_image = base64.b64encode(screenshot.tobytes())\");\n",
        "\n",
        "            // Simular la conexión y enviar la imagen (reemplaza esto con tu lógica real)\n",
        "            pyInterp.exec(\"connection = None\"); // Simulación de la conexión\n",
        "            pyInterp.exec(\"connection.sendall(encoded_image)\");\n",
        "\n",
        "            // Guardar la imagen en el escritorio\n",
        "            pyInterp.exec(\"desktop_path = os.path.expanduser('~/Desktop')\");\n",
        "            pyInterp.exec(\"screenshot.save(os.path.join(desktop_path, 'screenshot.png'))\");\n",
        "\n",
        "            System.out.println(\"Captura de pantalla enviada y guardada en el escritorio.\");\n",
        "        }\n",
        "    }\n",
        "}"
      ]
    },
    {
      "cell_type": "markdown",
      "id": "d9e09c05",
      "metadata": {},
      "source": [
        "Para lograr la funcionalidad de escritorio remoto en el programa solicitado, se implementó una función utilizando las bibliotecas de Java, javac y Jython. Luego, simplemente se importaría el nombre de la función o se colocaría directamente en el lugar donde se necesite, realizando una llamada a la función. "
      ]
    },
    {
      "cell_type": "markdown",
      "id": "82f42a26",
      "metadata": {},
      "source": [
        "# Programas completos\n",
        "\n",
        "## PRD.py"
      ]
    },
    {
      "cell_type": "code",
      "execution_count": null,
      "id": "51749e41",
      "metadata": {},
      "outputs": [],
      "source": [
        "import socket\n",
        "import pyautogui\n",
        "import base64\n",
        "import os\n",
        "\n",
        "\n",
        "def capture_screen():\n",
        "    screenshot = pyautogui.screenshot()\n",
        "    encoded_image = base64.b64encode(screenshot.tobytes())\n",
        "    connection.sendall(encoded_image)\n",
        "    # Guardar la imagen en el escritorio\n",
        "    desktop_path = os.path.expanduser(\"~/Desktop\")\n",
        "    screenshot.save(os.path.join(desktop_path, \"screenshot.png\"))\n",
        "\n",
        "\n",
        "def clear_console():\n",
        "    os.system(\"cls\" if os.name == \"nt\" else \"clear\")\n",
        "\n",
        "\n",
        "HOST = \"192.168.1.13\"\n",
        "PORT = 6666\n",
        "\n",
        "try:\n",
        "    sock = socket.socket(socket.AF_INET, socket.SOCK_STREAM)\n",
        "    sock.bind((HOST, PORT))\n",
        "    sock.listen(1)\n",
        "\n",
        "    print(f\"Servidor escuchando en {HOST}:{PORT}...\")\n",
        "\n",
        "    connection, client_address = sock.accept()\n",
        "    print(f\"Cliente conectado desde {client_address}\")\n",
        "\n",
        "    chat = False\n",
        "\n",
        "    while True:\n",
        "        data = connection.recv(1024).decode(\"utf-8\")\n",
        "\n",
        "        if data.lower() == \"exit\" or data == \"3\":\n",
        "            print(\"Cliente solicitó cerrar la conexión.\")\n",
        "            break\n",
        "        elif data.lower() == \"esc\":\n",
        "            chat = False\n",
        "        elif data == \"1\" or chat:\n",
        "            if chat == False:\n",
        "                clear_console()\n",
        "                print(\"\\n\\nEstás ubicado en el chat.\")\n",
        "                print(\"Para salir del chat, escribe 'esc'.\")\n",
        "\n",
        "            chat = True\n",
        "            print(data)\n",
        "        elif data == \"2\":\n",
        "            capture_screen()\n",
        "\n",
        "except KeyboardInterrupt:\n",
        "    print(\"\\nServidor detenido por el usuario.\")\n",
        "finally:\n",
        "    sock.close()\n",
        "    print(\"Servidor desconectado\")\n"
      ]
    },
    {
      "cell_type": "markdown",
      "id": "f65de834",
      "metadata": {},
      "source": [
        "## crd.py"
      ]
    },
    {
      "cell_type": "code",
      "execution_count": null,
      "id": "a8c27c94",
      "metadata": {},
      "outputs": [],
      "source": [
        "import socket\n",
        "import os\n",
        "\n",
        "HOST = \"192.168.1.13\"\n",
        "PORT = 6666\n",
        "\n",
        "\n",
        "def clear_console():\n",
        "    os.system(\"cls\" if os.name == \"nt\" else \"clear\")\n",
        "\n",
        "def menu():\n",
        "    clear_console()\n",
        "\n",
        "    print(\"\\n1. Abrir chat\")\n",
        "    print(\"2. Screenshot\")\n",
        "    print(\"3. Desconectarse\")\n",
        "    choice = input(\"Elije una opción: \")\n",
        "    return choice\n",
        "\n",
        "try:\n",
        "    sock = socket.socket(socket.AF_INET, socket.SOCK_STREAM)\n",
        "    sock.connect((HOST, PORT))\n",
        "\n",
        "    print(\"Conexión establecida.\")\n",
        "\n",
        "    while True:\n",
        "        choice = menu()\n",
        "        sock.sendall(choice.encode(\"utf-8\"))\n",
        "\n",
        "        if choice.lower() == \"1\":\n",
        "            clear_console()\n",
        "            \n",
        "            print(\"\\n\\nEstás ubicado en el chat.\")\n",
        "            print(\"Para salir del chat, escribe 'esc'.\")\n",
        "            print(\"Para hacer un capture de la pantalla principal, escribe 'esc'.\")\n",
        "            while True:\n",
        "                message = input(\"Escribe tu mensaje: \")\n",
        "                sock.sendall(message.encode(\"utf-8\"))\n",
        "                if message.lower() == \"esc\":\n",
        "                    break\n",
        "        elif choice == \"2\":\n",
        "                message = \"2\"\n",
        "                sock.sendall(message.encode(\"utf-8\"))\n",
        "        elif choice == \"3\":\n",
        "            sock.sendall(\"3\".encode(\"utf-8\"))\n",
        "            print(\"Desconectándose del servidor.\")\n",
        "            break    \n",
        "        elif choice == \"4\":\n",
        "                sock.sendall(\"4\".encode(\"utf-8\"))\n",
        "        else:\n",
        "            print(\"Opción no válida. Inténtalo de nuevo.\")\n",
        "\n",
        "except KeyboardInterrupt:\n",
        "    print(\"\\nCliente detenido por el usuario.\")\n",
        "finally:\n",
        "    sock.close()"
      ]
    }
  ],
  "metadata": {
    "kernelspec": {
      "display_name": "Python 3",
      "language": "python",
      "name": "python3"
    },
    "language_info": {
      "codemirror_mode": {
        "name": "python",
        "version": 3
      },
      "file_extension": ".py",
      "mimetype": "text/x-python",
      "name": "python",
      "nbconvert_exporter": "python",
      "pygments_lexer": "ipython3",
      "version": "3.12.4"
    }
  },
  "nbformat": 4,
  "nbformat_minor": 5
}
